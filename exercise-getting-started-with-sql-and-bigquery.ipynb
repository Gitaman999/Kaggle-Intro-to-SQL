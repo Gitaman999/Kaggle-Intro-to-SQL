{
 "cells": [
  {
   "cell_type": "markdown",
   "id": "e03f1c37",
   "metadata": {
    "papermill": {
     "duration": 0.004613,
     "end_time": "2025-10-09T20:21:36.870289",
     "exception": false,
     "start_time": "2025-10-09T20:21:36.865676",
     "status": "completed"
    },
    "tags": []
   },
   "source": [
    "**This notebook is an exercise in the [SQL](https://www.kaggle.com/learn/intro-to-sql) course.  You can reference the tutorial at [this link](https://www.kaggle.com/dansbecker/getting-started-with-sql-and-bigquery).**\n",
    "\n",
    "---\n"
   ]
  },
  {
   "cell_type": "markdown",
   "id": "017d61f3",
   "metadata": {
    "papermill": {
     "duration": 0.003503,
     "end_time": "2025-10-09T20:21:36.877699",
     "exception": false,
     "start_time": "2025-10-09T20:21:36.874196",
     "status": "completed"
    },
    "tags": []
   },
   "source": [
    "# Introduction\n",
    "\n",
    "The first test of your new data exploration skills uses data describing crime in the city of Chicago.\n",
    "\n",
    "Before you get started, run the following cell. It sets up the automated feedback system to review your answers."
   ]
  },
  {
   "cell_type": "code",
   "execution_count": 1,
   "id": "49c9dcea",
   "metadata": {
    "execution": {
     "iopub.execute_input": "2025-10-09T20:21:36.886900Z",
     "iopub.status.busy": "2025-10-09T20:21:36.886024Z",
     "iopub.status.idle": "2025-10-09T20:21:56.613575Z",
     "shell.execute_reply": "2025-10-09T20:21:56.612413Z"
    },
    "papermill": {
     "duration": 19.733871,
     "end_time": "2025-10-09T20:21:56.615234",
     "exception": false,
     "start_time": "2025-10-09T20:21:36.881363",
     "status": "completed"
    },
    "tags": []
   },
   "outputs": [
    {
     "name": "stderr",
     "output_type": "stream",
     "text": [
      "/usr/local/lib/python3.11/dist-packages/learntools/sql/ex1.py:64: SyntaxWarning: assertion is always true, perhaps remove parentheses?\n",
      "  assert (type(fields_for_plotting[0] == str), \"The first item in `fields_for_plotting` should be a string.\")\n",
      "/usr/local/lib/python3.11/dist-packages/learntools/sql/ex1.py:65: SyntaxWarning: assertion is always true, perhaps remove parentheses?\n",
      "  assert (type(fields_for_plotting[1] == str), \"The second item in `fields_for_plotting` should be a string.\")\n"
     ]
    },
    {
     "name": "stdout",
     "output_type": "stream",
     "text": [
      "Using Kaggle's public dataset BigQuery integration.\n",
      "Setup Complete\n"
     ]
    }
   ],
   "source": [
    "# Set up feedack system\n",
    "from learntools.core import binder\n",
    "binder.bind(globals())\n",
    "from learntools.sql.ex1 import *\n",
    "print(\"Setup Complete\")"
   ]
  },
  {
   "cell_type": "markdown",
   "id": "c46e5e1a",
   "metadata": {
    "papermill": {
     "duration": 0.00373,
     "end_time": "2025-10-09T20:21:56.623090",
     "exception": false,
     "start_time": "2025-10-09T20:21:56.619360",
     "status": "completed"
    },
    "tags": []
   },
   "source": [
    "Use the next code cell to fetch the dataset."
   ]
  },
  {
   "cell_type": "code",
   "execution_count": 2,
   "id": "fc23cb46",
   "metadata": {
    "execution": {
     "iopub.execute_input": "2025-10-09T20:21:56.632375Z",
     "iopub.status.busy": "2025-10-09T20:21:56.631571Z",
     "iopub.status.idle": "2025-10-09T20:21:56.935452Z",
     "shell.execute_reply": "2025-10-09T20:21:56.934567Z"
    },
    "papermill": {
     "duration": 0.310358,
     "end_time": "2025-10-09T20:21:56.937256",
     "exception": false,
     "start_time": "2025-10-09T20:21:56.626898",
     "status": "completed"
    },
    "tags": []
   },
   "outputs": [
    {
     "name": "stdout",
     "output_type": "stream",
     "text": [
      "Using Kaggle's public dataset BigQuery integration.\n"
     ]
    }
   ],
   "source": [
    "from google.cloud import bigquery\n",
    "\n",
    "# Create a \"Client\" object\n",
    "client = bigquery.Client()\n",
    "\n",
    "# Construct a reference to the \"chicago_crime\" dataset\n",
    "dataset_ref = client.dataset(\"chicago_crime\", project=\"bigquery-public-data\")\n",
    "\n",
    "# API request - fetch the dataset\n",
    "dataset = client.get_dataset(dataset_ref)"
   ]
  },
  {
   "cell_type": "markdown",
   "id": "a2d35d08",
   "metadata": {
    "papermill": {
     "duration": 0.003628,
     "end_time": "2025-10-09T20:21:56.944924",
     "exception": false,
     "start_time": "2025-10-09T20:21:56.941296",
     "status": "completed"
    },
    "tags": []
   },
   "source": [
    "# Exercises\n",
    "\n",
    "### 1) Count tables in the dataset\n",
    "\n",
    "How many tables are in the Chicago Crime dataset?"
   ]
  },
  {
   "cell_type": "code",
   "execution_count": 3,
   "id": "52738f99",
   "metadata": {
    "execution": {
     "iopub.execute_input": "2025-10-09T20:21:56.953813Z",
     "iopub.status.busy": "2025-10-09T20:21:56.953493Z",
     "iopub.status.idle": "2025-10-09T20:21:57.140587Z",
     "shell.execute_reply": "2025-10-09T20:21:57.139724Z"
    },
    "papermill": {
     "duration": 0.193398,
     "end_time": "2025-10-09T20:21:57.142187",
     "exception": false,
     "start_time": "2025-10-09T20:21:56.948789",
     "status": "completed"
    },
    "tags": []
   },
   "outputs": [
    {
     "name": "stdout",
     "output_type": "stream",
     "text": [
      "crime\n"
     ]
    }
   ],
   "source": [
    "# Write the code you need here to figure out the answer\n",
    "tables = list(client.list_tables(dataset))\n",
    "\n",
    "for table in tables:\n",
    "    print(table.table_id)"
   ]
  },
  {
   "cell_type": "code",
   "execution_count": 4,
   "id": "5bda8bef",
   "metadata": {
    "execution": {
     "iopub.execute_input": "2025-10-09T20:21:57.151608Z",
     "iopub.status.busy": "2025-10-09T20:21:57.151321Z",
     "iopub.status.idle": "2025-10-09T20:21:57.158689Z",
     "shell.execute_reply": "2025-10-09T20:21:57.157953Z"
    },
    "papermill": {
     "duration": 0.013611,
     "end_time": "2025-10-09T20:21:57.160033",
     "exception": false,
     "start_time": "2025-10-09T20:21:57.146422",
     "status": "completed"
    },
    "tags": []
   },
   "outputs": [
    {
     "data": {
      "application/javascript": [
       "parent.postMessage({\"jupyterEvent\": \"custom.exercise_interaction\", \"data\": {\"outcomeType\": 1, \"valueTowardsCompletion\": 0.3333333333333333, \"interactionType\": 1, \"questionType\": 1, \"questionId\": \"1_CountTables\", \"learnToolsVersion\": \"0.3.5\", \"failureMessage\": \"\", \"exceptionClass\": \"\", \"trace\": \"\"}}, \"*\")"
      ],
      "text/plain": [
       "<IPython.core.display.Javascript object>"
      ]
     },
     "metadata": {},
     "output_type": "display_data"
    },
    {
     "data": {
      "text/markdown": [
       "<span style=\"color:#33cc33\">Correct</span>"
      ],
      "text/plain": [
       "Correct"
      ]
     },
     "metadata": {},
     "output_type": "display_data"
    }
   ],
   "source": [
    "num_tables = 1  # Store the answer as num_tables and then run this cell\n",
    "\n",
    "# Check your answer\n",
    "q_1.check()"
   ]
  },
  {
   "cell_type": "markdown",
   "id": "3191171a",
   "metadata": {
    "papermill": {
     "duration": 0.00378,
     "end_time": "2025-10-09T20:21:57.168051",
     "exception": false,
     "start_time": "2025-10-09T20:21:57.164271",
     "status": "completed"
    },
    "tags": []
   },
   "source": [
    "For a hint or the solution, uncomment the appropriate line below."
   ]
  },
  {
   "cell_type": "code",
   "execution_count": 5,
   "id": "6119be58",
   "metadata": {
    "execution": {
     "iopub.execute_input": "2025-10-09T20:21:57.177637Z",
     "iopub.status.busy": "2025-10-09T20:21:57.176821Z",
     "iopub.status.idle": "2025-10-09T20:21:57.180638Z",
     "shell.execute_reply": "2025-10-09T20:21:57.179955Z"
    },
    "papermill": {
     "duration": 0.009962,
     "end_time": "2025-10-09T20:21:57.182021",
     "exception": false,
     "start_time": "2025-10-09T20:21:57.172059",
     "status": "completed"
    },
    "tags": []
   },
   "outputs": [],
   "source": [
    "#q_1.hint()\n",
    "#q_1.solution()"
   ]
  },
  {
   "cell_type": "markdown",
   "id": "39e38af6",
   "metadata": {
    "papermill": {
     "duration": 0.003837,
     "end_time": "2025-10-09T20:21:57.190185",
     "exception": false,
     "start_time": "2025-10-09T20:21:57.186348",
     "status": "completed"
    },
    "tags": []
   },
   "source": [
    "### 2) Explore the table schema\n",
    "\n",
    "How many columns in the `crime` table have `TIMESTAMP` data?"
   ]
  },
  {
   "cell_type": "code",
   "execution_count": 6,
   "id": "739e6002",
   "metadata": {
    "execution": {
     "iopub.execute_input": "2025-10-09T20:21:57.199872Z",
     "iopub.status.busy": "2025-10-09T20:21:57.199164Z",
     "iopub.status.idle": "2025-10-09T20:21:57.446805Z",
     "shell.execute_reply": "2025-10-09T20:21:57.445704Z"
    },
    "papermill": {
     "duration": 0.254137,
     "end_time": "2025-10-09T20:21:57.448424",
     "exception": false,
     "start_time": "2025-10-09T20:21:57.194287",
     "status": "completed"
    },
    "tags": []
   },
   "outputs": [],
   "source": [
    "# Write the code to figure out the answer\n",
    "table_ref = dataset_ref.table(\"crime\")\n",
    "\n",
    "table = client.get_table(table_ref)"
   ]
  },
  {
   "cell_type": "code",
   "execution_count": 7,
   "id": "03a39f2a",
   "metadata": {
    "execution": {
     "iopub.execute_input": "2025-10-09T20:21:57.458362Z",
     "iopub.status.busy": "2025-10-09T20:21:57.457742Z",
     "iopub.status.idle": "2025-10-09T20:21:57.463613Z",
     "shell.execute_reply": "2025-10-09T20:21:57.462778Z"
    },
    "papermill": {
     "duration": 0.012345,
     "end_time": "2025-10-09T20:21:57.465158",
     "exception": false,
     "start_time": "2025-10-09T20:21:57.452813",
     "status": "completed"
    },
    "tags": []
   },
   "outputs": [
    {
     "data": {
      "text/plain": [
       "[SchemaField('unique_key', 'INTEGER', 'REQUIRED', None, None, (), None),\n",
       " SchemaField('case_number', 'STRING', 'NULLABLE', None, None, (), None),\n",
       " SchemaField('date', 'TIMESTAMP', 'NULLABLE', None, None, (), None),\n",
       " SchemaField('block', 'STRING', 'NULLABLE', None, None, (), None),\n",
       " SchemaField('iucr', 'STRING', 'NULLABLE', None, None, (), None),\n",
       " SchemaField('primary_type', 'STRING', 'NULLABLE', None, None, (), None),\n",
       " SchemaField('description', 'STRING', 'NULLABLE', None, None, (), None),\n",
       " SchemaField('location_description', 'STRING', 'NULLABLE', None, None, (), None),\n",
       " SchemaField('arrest', 'BOOLEAN', 'NULLABLE', None, None, (), None),\n",
       " SchemaField('domestic', 'BOOLEAN', 'NULLABLE', None, None, (), None),\n",
       " SchemaField('beat', 'INTEGER', 'NULLABLE', None, None, (), None),\n",
       " SchemaField('district', 'INTEGER', 'NULLABLE', None, None, (), None),\n",
       " SchemaField('ward', 'INTEGER', 'NULLABLE', None, None, (), None),\n",
       " SchemaField('community_area', 'INTEGER', 'NULLABLE', None, None, (), None),\n",
       " SchemaField('fbi_code', 'STRING', 'NULLABLE', None, None, (), None),\n",
       " SchemaField('x_coordinate', 'FLOAT', 'NULLABLE', None, None, (), None),\n",
       " SchemaField('y_coordinate', 'FLOAT', 'NULLABLE', None, None, (), None),\n",
       " SchemaField('year', 'INTEGER', 'NULLABLE', None, None, (), None),\n",
       " SchemaField('updated_on', 'TIMESTAMP', 'NULLABLE', None, None, (), None),\n",
       " SchemaField('latitude', 'FLOAT', 'NULLABLE', None, None, (), None),\n",
       " SchemaField('longitude', 'FLOAT', 'NULLABLE', None, None, (), None),\n",
       " SchemaField('location', 'STRING', 'NULLABLE', None, None, (), None)]"
      ]
     },
     "execution_count": 7,
     "metadata": {},
     "output_type": "execute_result"
    }
   ],
   "source": [
    "table.schema"
   ]
  },
  {
   "cell_type": "code",
   "execution_count": 8,
   "id": "a6e58d8b",
   "metadata": {
    "execution": {
     "iopub.execute_input": "2025-10-09T20:21:57.475639Z",
     "iopub.status.busy": "2025-10-09T20:21:57.474932Z",
     "iopub.status.idle": "2025-10-09T20:21:57.481396Z",
     "shell.execute_reply": "2025-10-09T20:21:57.480742Z"
    },
    "papermill": {
     "duration": 0.012855,
     "end_time": "2025-10-09T20:21:57.482691",
     "exception": false,
     "start_time": "2025-10-09T20:21:57.469836",
     "status": "completed"
    },
    "tags": []
   },
   "outputs": [
    {
     "data": {
      "application/javascript": [
       "parent.postMessage({\"jupyterEvent\": \"custom.exercise_interaction\", \"data\": {\"outcomeType\": 1, \"valueTowardsCompletion\": 0.3333333333333333, \"interactionType\": 1, \"questionType\": 1, \"questionId\": \"2_CountTimestampFields\", \"learnToolsVersion\": \"0.3.5\", \"failureMessage\": \"\", \"exceptionClass\": \"\", \"trace\": \"\"}}, \"*\")"
      ],
      "text/plain": [
       "<IPython.core.display.Javascript object>"
      ]
     },
     "metadata": {},
     "output_type": "display_data"
    },
    {
     "data": {
      "text/markdown": [
       "<span style=\"color:#33cc33\">Correct</span>"
      ],
      "text/plain": [
       "Correct"
      ]
     },
     "metadata": {},
     "output_type": "display_data"
    }
   ],
   "source": [
    "num_timestamp_fields = 2 # Put your answer here\n",
    "\n",
    "# Check your answer\n",
    "q_2.check()"
   ]
  },
  {
   "cell_type": "markdown",
   "id": "0f5e8dec",
   "metadata": {
    "papermill": {
     "duration": 0.004026,
     "end_time": "2025-10-09T20:21:57.491180",
     "exception": false,
     "start_time": "2025-10-09T20:21:57.487154",
     "status": "completed"
    },
    "tags": []
   },
   "source": [
    "For a hint or the solution, uncomment the appropriate line below."
   ]
  },
  {
   "cell_type": "code",
   "execution_count": 9,
   "id": "c5762ecb",
   "metadata": {
    "execution": {
     "iopub.execute_input": "2025-10-09T20:21:57.501220Z",
     "iopub.status.busy": "2025-10-09T20:21:57.500430Z",
     "iopub.status.idle": "2025-10-09T20:21:57.504402Z",
     "shell.execute_reply": "2025-10-09T20:21:57.503464Z"
    },
    "papermill": {
     "duration": 0.010503,
     "end_time": "2025-10-09T20:21:57.505885",
     "exception": false,
     "start_time": "2025-10-09T20:21:57.495382",
     "status": "completed"
    },
    "tags": []
   },
   "outputs": [],
   "source": [
    "#q_2.hint()\n",
    "#q_2.solution()"
   ]
  },
  {
   "cell_type": "markdown",
   "id": "711acd18",
   "metadata": {
    "papermill": {
     "duration": 0.004083,
     "end_time": "2025-10-09T20:21:57.514443",
     "exception": false,
     "start_time": "2025-10-09T20:21:57.510360",
     "status": "completed"
    },
    "tags": []
   },
   "source": [
    "### 3) Create a crime map\n",
    "\n",
    "If you wanted to create a map with a dot at the location of each crime, what are the names of the two fields you likely need to pull out of the `crime` table to plot the crimes on a map?"
   ]
  },
  {
   "cell_type": "code",
   "execution_count": 10,
   "id": "610335ec",
   "metadata": {
    "execution": {
     "iopub.execute_input": "2025-10-09T20:21:57.524261Z",
     "iopub.status.busy": "2025-10-09T20:21:57.523993Z",
     "iopub.status.idle": "2025-10-09T20:21:57.527575Z",
     "shell.execute_reply": "2025-10-09T20:21:57.526921Z"
    },
    "papermill": {
     "duration": 0.010086,
     "end_time": "2025-10-09T20:21:57.528923",
     "exception": false,
     "start_time": "2025-10-09T20:21:57.518837",
     "status": "completed"
    },
    "tags": []
   },
   "outputs": [],
   "source": [
    "# Write the code here to explore the data so you can find the answer"
   ]
  },
  {
   "cell_type": "code",
   "execution_count": 11,
   "id": "92ec4bd3",
   "metadata": {
    "execution": {
     "iopub.execute_input": "2025-10-09T20:21:57.539084Z",
     "iopub.status.busy": "2025-10-09T20:21:57.538786Z",
     "iopub.status.idle": "2025-10-09T20:21:57.545270Z",
     "shell.execute_reply": "2025-10-09T20:21:57.544613Z"
    },
    "papermill": {
     "duration": 0.013091,
     "end_time": "2025-10-09T20:21:57.546434",
     "exception": false,
     "start_time": "2025-10-09T20:21:57.533343",
     "status": "completed"
    },
    "tags": []
   },
   "outputs": [
    {
     "data": {
      "application/javascript": [
       "parent.postMessage({\"jupyterEvent\": \"custom.exercise_interaction\", \"data\": {\"outcomeType\": 1, \"valueTowardsCompletion\": 0.3333333333333333, \"interactionType\": 1, \"questionType\": 2, \"questionId\": \"3_IdentifyFieldsForPlotting\", \"learnToolsVersion\": \"0.3.5\", \"failureMessage\": \"\", \"exceptionClass\": \"\", \"trace\": \"\"}}, \"*\")"
      ],
      "text/plain": [
       "<IPython.core.display.Javascript object>"
      ]
     },
     "metadata": {},
     "output_type": "display_data"
    },
    {
     "data": {
      "text/markdown": [
       "<span style=\"color:#33cc33\">Correct</span>"
      ],
      "text/plain": [
       "Correct"
      ]
     },
     "metadata": {},
     "output_type": "display_data"
    }
   ],
   "source": [
    "fields_for_plotting = [\"latitude\", \"longitude\"] # Put your answers here\n",
    "\n",
    "# Check your answer\n",
    "q_3.check()"
   ]
  },
  {
   "cell_type": "markdown",
   "id": "4bd91a18",
   "metadata": {
    "papermill": {
     "duration": 0.00441,
     "end_time": "2025-10-09T20:21:57.555832",
     "exception": false,
     "start_time": "2025-10-09T20:21:57.551422",
     "status": "completed"
    },
    "tags": []
   },
   "source": [
    "For a hint or the solution, uncomment the appropriate line below."
   ]
  },
  {
   "cell_type": "code",
   "execution_count": 12,
   "id": "7fe395b8",
   "metadata": {
    "execution": {
     "iopub.execute_input": "2025-10-09T20:21:57.566443Z",
     "iopub.status.busy": "2025-10-09T20:21:57.565693Z",
     "iopub.status.idle": "2025-10-09T20:21:57.572176Z",
     "shell.execute_reply": "2025-10-09T20:21:57.571353Z"
    },
    "papermill": {
     "duration": 0.013254,
     "end_time": "2025-10-09T20:21:57.573563",
     "exception": false,
     "start_time": "2025-10-09T20:21:57.560309",
     "status": "completed"
    },
    "tags": []
   },
   "outputs": [
    {
     "data": {
      "application/javascript": [
       "parent.postMessage({\"jupyterEvent\": \"custom.exercise_interaction\", \"data\": {\"interactionType\": 2, \"questionType\": 2, \"questionId\": \"3_IdentifyFieldsForPlotting\", \"learnToolsVersion\": \"0.3.5\", \"valueTowardsCompletion\": 0.0, \"failureMessage\": \"\", \"exceptionClass\": \"\", \"trace\": \"\", \"outcomeType\": 4}}, \"*\")"
      ],
      "text/plain": [
       "<IPython.core.display.Javascript object>"
      ]
     },
     "metadata": {},
     "output_type": "display_data"
    },
    {
     "data": {
      "text/markdown": [
       "<span style=\"color:#3366cc\">Hint:</span> Look at the table schema.  There are a couple options, but two of the fields are things commonly used to plot on maps. Both are `'FLOAT'` types. Use quotes around the field names in your answer."
      ],
      "text/plain": [
       "Hint: Look at the table schema.  There are a couple options, but two of the fields are things commonly used to plot on maps. Both are `'FLOAT'` types. Use quotes around the field names in your answer."
      ]
     },
     "metadata": {},
     "output_type": "display_data"
    }
   ],
   "source": [
    "q_3.hint()\n",
    "#q_3.solution()"
   ]
  },
  {
   "cell_type": "markdown",
   "id": "97293c79",
   "metadata": {
    "papermill": {
     "duration": 0.004514,
     "end_time": "2025-10-09T20:21:57.583287",
     "exception": false,
     "start_time": "2025-10-09T20:21:57.578773",
     "status": "completed"
    },
    "tags": []
   },
   "source": [
    "Thinking about the question above, there are a few columns that appear to have geographic data. Look at a few values (with the `list_rows()` command) to see if you can determine their relationship.  Two columns will still be hard to interpret. But it should be obvious how the `location` column relates to `latitude` and `longitude`."
   ]
  },
  {
   "cell_type": "code",
   "execution_count": 13,
   "id": "fac78039",
   "metadata": {
    "execution": {
     "iopub.execute_input": "2025-10-09T20:21:57.593964Z",
     "iopub.status.busy": "2025-10-09T20:21:57.593333Z",
     "iopub.status.idle": "2025-10-09T20:21:58.002808Z",
     "shell.execute_reply": "2025-10-09T20:21:58.001903Z"
    },
    "papermill": {
     "duration": 0.416408,
     "end_time": "2025-10-09T20:21:58.004357",
     "exception": false,
     "start_time": "2025-10-09T20:21:57.587949",
     "status": "completed"
    },
    "tags": []
   },
   "outputs": [
    {
     "data": {
      "text/html": [
       "<div>\n",
       "<style scoped>\n",
       "    .dataframe tbody tr th:only-of-type {\n",
       "        vertical-align: middle;\n",
       "    }\n",
       "\n",
       "    .dataframe tbody tr th {\n",
       "        vertical-align: top;\n",
       "    }\n",
       "\n",
       "    .dataframe thead th {\n",
       "        text-align: right;\n",
       "    }\n",
       "</style>\n",
       "<table border=\"1\" class=\"dataframe\">\n",
       "  <thead>\n",
       "    <tr style=\"text-align: right;\">\n",
       "      <th></th>\n",
       "      <th>unique_key</th>\n",
       "      <th>case_number</th>\n",
       "      <th>date</th>\n",
       "      <th>block</th>\n",
       "      <th>iucr</th>\n",
       "      <th>primary_type</th>\n",
       "      <th>description</th>\n",
       "      <th>location_description</th>\n",
       "      <th>arrest</th>\n",
       "      <th>domestic</th>\n",
       "      <th>...</th>\n",
       "      <th>ward</th>\n",
       "      <th>community_area</th>\n",
       "      <th>fbi_code</th>\n",
       "      <th>x_coordinate</th>\n",
       "      <th>y_coordinate</th>\n",
       "      <th>year</th>\n",
       "      <th>updated_on</th>\n",
       "      <th>latitude</th>\n",
       "      <th>longitude</th>\n",
       "      <th>location</th>\n",
       "    </tr>\n",
       "  </thead>\n",
       "  <tbody>\n",
       "    <tr>\n",
       "      <th>0</th>\n",
       "      <td>11060331</td>\n",
       "      <td>JA397659</td>\n",
       "      <td>2017-08-13 12:27:00+00:00</td>\n",
       "      <td>0000X W RANDOLPH ST</td>\n",
       "      <td>0281</td>\n",
       "      <td>CRIM SEXUAL ASSAULT</td>\n",
       "      <td>NON-AGGRAVATED</td>\n",
       "      <td>HOTEL/MOTEL</td>\n",
       "      <td>False</td>\n",
       "      <td>False</td>\n",
       "      <td>...</td>\n",
       "      <td>42</td>\n",
       "      <td>32</td>\n",
       "      <td>02</td>\n",
       "      <td>1176068.0</td>\n",
       "      <td>1901284.0</td>\n",
       "      <td>2017</td>\n",
       "      <td>2018-02-10 15:50:01+00:00</td>\n",
       "      <td>41.884486</td>\n",
       "      <td>-87.628909</td>\n",
       "      <td>(41.884486217, -87.628908795)</td>\n",
       "    </tr>\n",
       "    <tr>\n",
       "      <th>1</th>\n",
       "      <td>7263938</td>\n",
       "      <td>HR678180</td>\n",
       "      <td>2009-12-06 03:00:00+00:00</td>\n",
       "      <td>006XX W WASHINGTON BLVD</td>\n",
       "      <td>0313</td>\n",
       "      <td>ROBBERY</td>\n",
       "      <td>ARMED: OTHER DANGEROUS WEAPON</td>\n",
       "      <td>PARKING LOT/GARAGE(NON.RESID.)</td>\n",
       "      <td>False</td>\n",
       "      <td>False</td>\n",
       "      <td>...</td>\n",
       "      <td>27</td>\n",
       "      <td>28</td>\n",
       "      <td>03</td>\n",
       "      <td>1171769.0</td>\n",
       "      <td>1900767.0</td>\n",
       "      <td>2009</td>\n",
       "      <td>2018-02-28 15:56:25+00:00</td>\n",
       "      <td>41.883163</td>\n",
       "      <td>-87.644710</td>\n",
       "      <td>(41.883163285, -87.644710386)</td>\n",
       "    </tr>\n",
       "    <tr>\n",
       "      <th>2</th>\n",
       "      <td>2431199</td>\n",
       "      <td>HH749112</td>\n",
       "      <td>2002-10-30 21:59:19+00:00</td>\n",
       "      <td>005XX W MADISON ST</td>\n",
       "      <td>031A</td>\n",
       "      <td>ROBBERY</td>\n",
       "      <td>ARMED: HANDGUN</td>\n",
       "      <td>SIDEWALK</td>\n",
       "      <td>False</td>\n",
       "      <td>False</td>\n",
       "      <td>...</td>\n",
       "      <td>42</td>\n",
       "      <td>28</td>\n",
       "      <td>03</td>\n",
       "      <td>1173039.0</td>\n",
       "      <td>1900311.0</td>\n",
       "      <td>2002</td>\n",
       "      <td>2018-02-28 15:56:25+00:00</td>\n",
       "      <td>41.881884</td>\n",
       "      <td>-87.640060</td>\n",
       "      <td>(41.881883933, -87.640060441)</td>\n",
       "    </tr>\n",
       "    <tr>\n",
       "      <th>3</th>\n",
       "      <td>13141030</td>\n",
       "      <td>JG340094</td>\n",
       "      <td>2023-07-13 22:00:00+00:00</td>\n",
       "      <td>002XX N STATE ST</td>\n",
       "      <td>0320</td>\n",
       "      <td>ROBBERY</td>\n",
       "      <td>STRONG ARM - NO WEAPON</td>\n",
       "      <td>CTA PLATFORM</td>\n",
       "      <td>False</td>\n",
       "      <td>False</td>\n",
       "      <td>...</td>\n",
       "      <td>42</td>\n",
       "      <td>32</td>\n",
       "      <td>03</td>\n",
       "      <td>1176327.0</td>\n",
       "      <td>1901797.0</td>\n",
       "      <td>2023</td>\n",
       "      <td>2023-08-19 15:40:26+00:00</td>\n",
       "      <td>41.885888</td>\n",
       "      <td>-87.627942</td>\n",
       "      <td>(41.885888079, -87.627942238)</td>\n",
       "    </tr>\n",
       "    <tr>\n",
       "      <th>4</th>\n",
       "      <td>2314598</td>\n",
       "      <td>HH602912</td>\n",
       "      <td>2002-08-24 22:45:00+00:00</td>\n",
       "      <td>003XX W WASHINGTON ST</td>\n",
       "      <td>0320</td>\n",
       "      <td>ROBBERY</td>\n",
       "      <td>STRONGARM - NO WEAPON</td>\n",
       "      <td>STREET</td>\n",
       "      <td>False</td>\n",
       "      <td>False</td>\n",
       "      <td>...</td>\n",
       "      <td>42</td>\n",
       "      <td>32</td>\n",
       "      <td>03</td>\n",
       "      <td>1174205.0</td>\n",
       "      <td>1900802.0</td>\n",
       "      <td>2002</td>\n",
       "      <td>2018-02-28 15:56:25+00:00</td>\n",
       "      <td>41.883205</td>\n",
       "      <td>-87.635764</td>\n",
       "      <td>(41.88320534, -87.635764295)</td>\n",
       "    </tr>\n",
       "    <tr>\n",
       "      <th>5</th>\n",
       "      <td>11967362</td>\n",
       "      <td>JD134638</td>\n",
       "      <td>2020-01-31 01:30:00+00:00</td>\n",
       "      <td>001XX N STATE ST</td>\n",
       "      <td>0320</td>\n",
       "      <td>ROBBERY</td>\n",
       "      <td>STRONG ARM - NO WEAPON</td>\n",
       "      <td>CTA TRAIN</td>\n",
       "      <td>True</td>\n",
       "      <td>False</td>\n",
       "      <td>...</td>\n",
       "      <td>42</td>\n",
       "      <td>32</td>\n",
       "      <td>03</td>\n",
       "      <td>1176330.0</td>\n",
       "      <td>1901649.0</td>\n",
       "      <td>2020</td>\n",
       "      <td>2020-04-07 15:40:00+00:00</td>\n",
       "      <td>41.885482</td>\n",
       "      <td>-87.627936</td>\n",
       "      <td>(41.885481891, -87.627935689)</td>\n",
       "    </tr>\n",
       "    <tr>\n",
       "      <th>6</th>\n",
       "      <td>13680641</td>\n",
       "      <td>JH528442</td>\n",
       "      <td>2024-12-02 19:18:00+00:00</td>\n",
       "      <td>001XX N STATE ST</td>\n",
       "      <td>0320</td>\n",
       "      <td>ROBBERY</td>\n",
       "      <td>STRONG ARM - NO WEAPON</td>\n",
       "      <td>CTA TRAIN</td>\n",
       "      <td>True</td>\n",
       "      <td>False</td>\n",
       "      <td>...</td>\n",
       "      <td>42</td>\n",
       "      <td>32</td>\n",
       "      <td>03</td>\n",
       "      <td>1176330.0</td>\n",
       "      <td>1901649.0</td>\n",
       "      <td>2024</td>\n",
       "      <td>2025-05-17 15:40:52+00:00</td>\n",
       "      <td>41.885482</td>\n",
       "      <td>-87.627936</td>\n",
       "      <td>(41.885481891, -87.627935689)</td>\n",
       "    </tr>\n",
       "    <tr>\n",
       "      <th>7</th>\n",
       "      <td>12926802</td>\n",
       "      <td>JF511883</td>\n",
       "      <td>2022-12-15 17:01:00+00:00</td>\n",
       "      <td>0000X E RANDOLPH ST</td>\n",
       "      <td>0320</td>\n",
       "      <td>ROBBERY</td>\n",
       "      <td>STRONG ARM - NO WEAPON</td>\n",
       "      <td>PARKING LOT / GARAGE (NON RESIDENTIAL)</td>\n",
       "      <td>False</td>\n",
       "      <td>False</td>\n",
       "      <td>...</td>\n",
       "      <td>42</td>\n",
       "      <td>32</td>\n",
       "      <td>03</td>\n",
       "      <td>1177228.0</td>\n",
       "      <td>1901296.0</td>\n",
       "      <td>2022</td>\n",
       "      <td>2023-01-10 15:41:07+00:00</td>\n",
       "      <td>41.884493</td>\n",
       "      <td>-87.624649</td>\n",
       "      <td>(41.884492937, -87.624648808)</td>\n",
       "    </tr>\n",
       "    <tr>\n",
       "      <th>8</th>\n",
       "      <td>2692920</td>\n",
       "      <td>HJ316208</td>\n",
       "      <td>2003-04-21 18:30:00+00:00</td>\n",
       "      <td>006XX W VAN BUREN ST</td>\n",
       "      <td>0320</td>\n",
       "      <td>ROBBERY</td>\n",
       "      <td>STRONGARM - NO WEAPON</td>\n",
       "      <td>STREET</td>\n",
       "      <td>False</td>\n",
       "      <td>False</td>\n",
       "      <td>...</td>\n",
       "      <td>2</td>\n",
       "      <td>28</td>\n",
       "      <td>03</td>\n",
       "      <td>1172230.0</td>\n",
       "      <td>1898425.0</td>\n",
       "      <td>2003</td>\n",
       "      <td>2018-02-28 15:56:25+00:00</td>\n",
       "      <td>41.876727</td>\n",
       "      <td>-87.643087</td>\n",
       "      <td>(41.876726518, -87.643086748)</td>\n",
       "    </tr>\n",
       "    <tr>\n",
       "      <th>9</th>\n",
       "      <td>7680815</td>\n",
       "      <td>HS483701</td>\n",
       "      <td>2010-08-26 22:00:00+00:00</td>\n",
       "      <td>001XX S CLINTON ST</td>\n",
       "      <td>0330</td>\n",
       "      <td>ROBBERY</td>\n",
       "      <td>AGGRAVATED</td>\n",
       "      <td>SIDEWALK</td>\n",
       "      <td>False</td>\n",
       "      <td>False</td>\n",
       "      <td>...</td>\n",
       "      <td>2</td>\n",
       "      <td>28</td>\n",
       "      <td>03</td>\n",
       "      <td>1172751.0</td>\n",
       "      <td>1899651.0</td>\n",
       "      <td>2010</td>\n",
       "      <td>2018-02-10 15:50:01+00:00</td>\n",
       "      <td>41.880079</td>\n",
       "      <td>-87.641138</td>\n",
       "      <td>(41.880079229, -87.64113751)</td>\n",
       "    </tr>\n",
       "  </tbody>\n",
       "</table>\n",
       "<p>10 rows × 22 columns</p>\n",
       "</div>"
      ],
      "text/plain": [
       "   unique_key case_number                      date                    block  \\\n",
       "0    11060331    JA397659 2017-08-13 12:27:00+00:00      0000X W RANDOLPH ST   \n",
       "1     7263938    HR678180 2009-12-06 03:00:00+00:00  006XX W WASHINGTON BLVD   \n",
       "2     2431199    HH749112 2002-10-30 21:59:19+00:00       005XX W MADISON ST   \n",
       "3    13141030    JG340094 2023-07-13 22:00:00+00:00         002XX N STATE ST   \n",
       "4     2314598    HH602912 2002-08-24 22:45:00+00:00    003XX W WASHINGTON ST   \n",
       "5    11967362    JD134638 2020-01-31 01:30:00+00:00         001XX N STATE ST   \n",
       "6    13680641    JH528442 2024-12-02 19:18:00+00:00         001XX N STATE ST   \n",
       "7    12926802    JF511883 2022-12-15 17:01:00+00:00      0000X E RANDOLPH ST   \n",
       "8     2692920    HJ316208 2003-04-21 18:30:00+00:00     006XX W VAN BUREN ST   \n",
       "9     7680815    HS483701 2010-08-26 22:00:00+00:00       001XX S CLINTON ST   \n",
       "\n",
       "   iucr         primary_type                    description  \\\n",
       "0  0281  CRIM SEXUAL ASSAULT                 NON-AGGRAVATED   \n",
       "1  0313              ROBBERY  ARMED: OTHER DANGEROUS WEAPON   \n",
       "2  031A              ROBBERY                 ARMED: HANDGUN   \n",
       "3  0320              ROBBERY         STRONG ARM - NO WEAPON   \n",
       "4  0320              ROBBERY          STRONGARM - NO WEAPON   \n",
       "5  0320              ROBBERY         STRONG ARM - NO WEAPON   \n",
       "6  0320              ROBBERY         STRONG ARM - NO WEAPON   \n",
       "7  0320              ROBBERY         STRONG ARM - NO WEAPON   \n",
       "8  0320              ROBBERY          STRONGARM - NO WEAPON   \n",
       "9  0330              ROBBERY                     AGGRAVATED   \n",
       "\n",
       "                     location_description  arrest  domestic  ...  ward  \\\n",
       "0                             HOTEL/MOTEL   False     False  ...    42   \n",
       "1          PARKING LOT/GARAGE(NON.RESID.)   False     False  ...    27   \n",
       "2                                SIDEWALK   False     False  ...    42   \n",
       "3                            CTA PLATFORM   False     False  ...    42   \n",
       "4                                  STREET   False     False  ...    42   \n",
       "5                               CTA TRAIN    True     False  ...    42   \n",
       "6                               CTA TRAIN    True     False  ...    42   \n",
       "7  PARKING LOT / GARAGE (NON RESIDENTIAL)   False     False  ...    42   \n",
       "8                                  STREET   False     False  ...     2   \n",
       "9                                SIDEWALK   False     False  ...     2   \n",
       "\n",
       "   community_area  fbi_code  x_coordinate y_coordinate  year  \\\n",
       "0              32        02     1176068.0    1901284.0  2017   \n",
       "1              28        03     1171769.0    1900767.0  2009   \n",
       "2              28        03     1173039.0    1900311.0  2002   \n",
       "3              32        03     1176327.0    1901797.0  2023   \n",
       "4              32        03     1174205.0    1900802.0  2002   \n",
       "5              32        03     1176330.0    1901649.0  2020   \n",
       "6              32        03     1176330.0    1901649.0  2024   \n",
       "7              32        03     1177228.0    1901296.0  2022   \n",
       "8              28        03     1172230.0    1898425.0  2003   \n",
       "9              28        03     1172751.0    1899651.0  2010   \n",
       "\n",
       "                 updated_on   latitude  longitude  \\\n",
       "0 2018-02-10 15:50:01+00:00  41.884486 -87.628909   \n",
       "1 2018-02-28 15:56:25+00:00  41.883163 -87.644710   \n",
       "2 2018-02-28 15:56:25+00:00  41.881884 -87.640060   \n",
       "3 2023-08-19 15:40:26+00:00  41.885888 -87.627942   \n",
       "4 2018-02-28 15:56:25+00:00  41.883205 -87.635764   \n",
       "5 2020-04-07 15:40:00+00:00  41.885482 -87.627936   \n",
       "6 2025-05-17 15:40:52+00:00  41.885482 -87.627936   \n",
       "7 2023-01-10 15:41:07+00:00  41.884493 -87.624649   \n",
       "8 2018-02-28 15:56:25+00:00  41.876727 -87.643087   \n",
       "9 2018-02-10 15:50:01+00:00  41.880079 -87.641138   \n",
       "\n",
       "                        location  \n",
       "0  (41.884486217, -87.628908795)  \n",
       "1  (41.883163285, -87.644710386)  \n",
       "2  (41.881883933, -87.640060441)  \n",
       "3  (41.885888079, -87.627942238)  \n",
       "4   (41.88320534, -87.635764295)  \n",
       "5  (41.885481891, -87.627935689)  \n",
       "6  (41.885481891, -87.627935689)  \n",
       "7  (41.884492937, -87.624648808)  \n",
       "8  (41.876726518, -87.643086748)  \n",
       "9   (41.880079229, -87.64113751)  \n",
       "\n",
       "[10 rows x 22 columns]"
      ]
     },
     "execution_count": 13,
     "metadata": {},
     "output_type": "execute_result"
    }
   ],
   "source": [
    "# Scratch space for your code\n",
    "client.list_rows(table, max_results=10).to_dataframe()"
   ]
  },
  {
   "cell_type": "markdown",
   "id": "866ad1c5",
   "metadata": {
    "papermill": {
     "duration": 0.004884,
     "end_time": "2025-10-09T20:21:58.014755",
     "exception": false,
     "start_time": "2025-10-09T20:21:58.009871",
     "status": "completed"
    },
    "tags": []
   },
   "source": [
    "# Keep going\n",
    "\n",
    "You've looked at the schema, but you haven't yet done anything exciting with the data itself. Things get more interesting when you get to the data, so keep going to **[write your first SQL query](https://www.kaggle.com/dansbecker/select-from-where).**"
   ]
  },
  {
   "cell_type": "markdown",
   "id": "bb77fbd2",
   "metadata": {
    "papermill": {
     "duration": 0.004901,
     "end_time": "2025-10-09T20:21:58.024764",
     "exception": false,
     "start_time": "2025-10-09T20:21:58.019863",
     "status": "completed"
    },
    "tags": []
   },
   "source": [
    "---\n",
    "\n",
    "\n",
    "\n",
    "\n",
    "*Have questions or comments? Visit the [course discussion forum](https://www.kaggle.com/learn/intro-to-sql/discussion) to chat with other learners.*"
   ]
  }
 ],
 "metadata": {
  "kaggle": {
   "accelerator": "none",
   "dataSources": [
    {
     "datasetId": 22090,
     "sourceId": 28376,
     "sourceType": "datasetVersion"
    },
    {
     "datasetId": 6057,
     "sourceId": 285982,
     "sourceType": "datasetVersion"
    }
   ],
   "isGpuEnabled": false,
   "isInternetEnabled": false,
   "language": "python",
   "sourceType": "notebook"
  },
  "kernelspec": {
   "display_name": "Python 3",
   "language": "python",
   "name": "python3"
  },
  "language_info": {
   "codemirror_mode": {
    "name": "ipython",
    "version": 3
   },
   "file_extension": ".py",
   "mimetype": "text/x-python",
   "name": "python",
   "nbconvert_exporter": "python",
   "pygments_lexer": "ipython3",
   "version": "3.11.13"
  },
  "papermill": {
   "default_parameters": {},
   "duration": 29.158167,
   "end_time": "2025-10-09T20:22:01.581777",
   "environment_variables": {},
   "exception": null,
   "input_path": "__notebook__.ipynb",
   "output_path": "__notebook__.ipynb",
   "parameters": {},
   "start_time": "2025-10-09T20:21:32.423610",
   "version": "2.6.0"
  }
 },
 "nbformat": 4,
 "nbformat_minor": 5
}
